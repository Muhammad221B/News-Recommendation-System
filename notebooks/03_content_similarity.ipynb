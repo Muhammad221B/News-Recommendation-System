{
 "cells": [
  {
   "cell_type": "code",
   "execution_count": 1,
   "id": "a41c4133",
   "metadata": {},
   "outputs": [],
   "source": [
    "import pandas as pd\n",
    "from sklearn.feature_extraction.text import TfidfVectorizer\n",
    "from sklearn.metrics.pairwise import cosine_similarity\n",
    "\n",
    "news_df = pd.read_csv(\"../data/clean_news.csv\")\n",
    "documents = news_df[\"clean_content\"].tolist()"
   ]
  },
  {
   "cell_type": "code",
   "execution_count": 2,
   "id": "6480c19d",
   "metadata": {},
   "outputs": [],
   "source": [
    "vectorizer = TfidfVectorizer(stop_words=\"english\", max_features=5000)\n",
    "tfidf_matrix = vectorizer.fit_transform(documents)"
   ]
  },
  {
   "cell_type": "code",
   "execution_count": 4,
   "id": "f165e11c",
   "metadata": {},
   "outputs": [],
   "source": [
    "with open(\"../data/user_profile.txt\", \"r\") as f:\n",
    "    user_profile_text = f.read()\n",
    "\n",
    "user_vector = vectorizer.transform([user_profile_text])"
   ]
  },
  {
   "cell_type": "code",
   "execution_count": 5,
   "id": "eefd9923",
   "metadata": {},
   "outputs": [],
   "source": [
    "similarity_scores = cosine_similarity(user_vector, tfidf_matrix).flatten()\n",
    "news_df[\"similarity\"] = similarity_scores"
   ]
  },
  {
   "cell_type": "code",
   "execution_count": 6,
   "id": "614f0275",
   "metadata": {},
   "outputs": [],
   "source": [
    "news_df.to_csv(\"../data/news_with_similarity.csv\", index=False)"
   ]
  }
 ],
 "metadata": {
  "kernelspec": {
   "display_name": "Python 3",
   "language": "python",
   "name": "python3"
  },
  "language_info": {
   "codemirror_mode": {
    "name": "ipython",
    "version": 3
   },
   "file_extension": ".py",
   "mimetype": "text/x-python",
   "name": "python",
   "nbconvert_exporter": "python",
   "pygments_lexer": "ipython3",
   "version": "3.11.9"
  }
 },
 "nbformat": 4,
 "nbformat_minor": 5
}
