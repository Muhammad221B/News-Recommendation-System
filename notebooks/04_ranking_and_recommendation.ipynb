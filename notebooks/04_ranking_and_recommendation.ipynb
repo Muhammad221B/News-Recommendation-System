{
 "cells": [
  {
   "cell_type": "code",
   "execution_count": 1,
   "id": "f76c24f5",
   "metadata": {},
   "outputs": [],
   "source": [
    "import pandas as pd\n",
    "\n",
    "news_df = pd.read_csv(\"../data/news_with_similarity.csv\")"
   ]
  },
  {
   "cell_type": "code",
   "execution_count": 2,
   "id": "223508f3",
   "metadata": {},
   "outputs": [],
   "source": [
    "top_recommendations = news_df.sort_values(by=\"similarity\", ascending=False)[\n",
    "    [\"title\", \"category\", \"similarity\"]\n",
    "].head(10)"
   ]
  },
  {
   "cell_type": "code",
   "execution_count": 5,
   "id": "e9af38ef",
   "metadata": {},
   "outputs": [
    {
     "name": "stdout",
     "output_type": "stream",
     "text": [
      "Top 10 Recommended Articles:\n",
      "                                                   title category  similarity\n",
      "11727  Rosario Dawson is being sued by former transge...   movies    0.438906\n",
      "7186   The Woman Who Flipped Off Trump Has Won an Ele...     news    0.437546\n",
      "20366  Why you should give up alcohol for one month: ...   health    0.366277\n",
      "16206  Milwaukee man charged with hate crime in acid ...     news    0.339947\n",
      "2289   Boxer Patrick Day dies after suffering traumat...   sports    0.301019\n",
      "19523  Astros fire assistant GM for 'inappropriate co...     news    0.300968\n",
      "16903       Here's how much house flippers actually make  finance    0.295643\n",
      "29811  12 Things You Should Never, Ever Do to Your Sk...   health    0.276451\n",
      "2980   California's legal weed profits going up in smoke  finance    0.255604\n",
      "10944  Report: Brandon Taubman, Astros could face dis...   sports    0.244991\n"
     ]
    }
   ],
   "source": [
    "print(\"Top 10 Recommended Articles:\")\n",
    "print(top_recommendations)\n",
    "\n",
    "top_recommendations.to_csv(\"../data/top_recommendations.csv\", index=False)"
   ]
  }
 ],
 "metadata": {
  "kernelspec": {
   "display_name": "Python 3",
   "language": "python",
   "name": "python3"
  },
  "language_info": {
   "codemirror_mode": {
    "name": "ipython",
    "version": 3
   },
   "file_extension": ".py",
   "mimetype": "text/x-python",
   "name": "python",
   "nbconvert_exporter": "python",
   "pygments_lexer": "ipython3",
   "version": "3.11.9"
  }
 },
 "nbformat": 4,
 "nbformat_minor": 5
}
